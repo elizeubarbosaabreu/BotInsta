{
 "cells": [
  {
   "cell_type": "markdown",
   "metadata": {},
   "source": [
    "# BOTINSTA PARA COMENTÁRIO AUTOMÁTICO"
   ]
  },
  {
   "cell_type": "code",
   "execution_count": 1,
   "metadata": {},
   "outputs": [],
   "source": [
    "# importação das bibliotecas e arquivos necessarios\n",
    "\n",
    "\n",
    "from time import sleep\n",
    "from selenium import webdriver as wb\n",
    "from selenium.webdriver.common.keys import Keys\n",
    "from random import randint\n",
    "\n",
    "contatos = list(open('contatos.txt', 'r'))\n",
    "usuario_e_senha = list(open('user_password.txt', 'r'))"
   ]
  },
  {
   "cell_type": "code",
   "execution_count": null,
   "metadata": {},
   "outputs": [],
   "source": [
    "# coloca os contatos em ordem alfabética!!!\n",
    "contatos_ordem_alfabetica = sorted(contatos)\n",
    "\n",
    "# Opção para colar ou digitar a url do sorteio\n",
    "\n",
    "url = str(input('''ATENÇÃO!!! Certifique-se de seguir todas as regras do sorteio no Instagram!\n",
    "\t***Este programa marca apenas um contato por postagens.\n",
    "Siga todos os perfils solicitados, curta ou compartilhe a postagem como solicitado.\n",
    "Certifique-se de que tem os contatos dentro do arquivo 'contatos.txt' (sem o '@' e um contato por linha) e editou o arquivo 'user_password.txt' com usuario e senha do instagram, na primeira e segunda respectivamente\n",
    "Entre com o link do sorteio no Instagram: '''))\n"
   ]
  },
  {
   "cell_type": "code",
   "execution_count": null,
   "metadata": {},
   "outputs": [],
   "source": [
    "# Aqui o webdriver e o selenium gera um browser, acessa o link so sorteio e digita o usuario e senha\n",
    "\n",
    "navegador = wb.Chrome()\n",
    "navegador.get(url)\n",
    "sleep(randint(10,15))\n",
    "navegador.find_element_by_xpath('//*[@id=\"react-root\"]/section/nav/div[2]/div/div/div[3]/div/span/a[1]/button').click()\n",
    "\n",
    "sleep(randint(3,8))\n",
    "navegador.find_element_by_xpath('//*[@id=\"loginForm\"]/div/div[1]/div/label/input').send_keys(usuario_e_senha[0])\n",
    "navegador.find_element_by_xpath('//*[@id=\"loginForm\"]/div/div[2]/div/label/input').send_keys(usuario_e_senha[1])\n",
    "navegador.find_element_by_xpath('//*[@id=\"loginForm\"]/div/div[3]').click()\n",
    "sleep(randint(5,10))\n",
    "navegador.find_element_by_xpath('//*[@id=\"react-root\"]/section/main/div/div/div/section/div/button').click()\n",
    "sleep(randint(5,10))"
   ]
  },
  {
   "cell_type": "code",
   "execution_count": null,
   "metadata": {},
   "outputs": [],
   "source": [
    "# Aqui aqui acontece um loop que funciona enquanto existem contatos a ser percorrido no arquivo 'contato.txt'\n",
    "\n",
    "while True:\n",
    "    for contato in contatos_ordem_alfabetica:\n",
    "        \n",
    "        navegador.find_element_by_xpath('//*[@id=\"react-root\"]/section/main/div/div[1]/article/div[3]/section[3]/div/form/textarea').send_keys('@'+ contato)\n",
    "        \n",
    "        # AQUI É DEFINIDO UM TEMPO ALEATORIO ENTRE 240 E 380 SEGUNDOS ENTRE AS POSTAGENS. ALTERE-O POR CONTA E RISCO! SE DIMINUIR ESTE TEMPO HAVERÁ MAIS COMENTÁRIOS, MAS O INSTA VAI TE BLOQUEAR\n",
    "        sleep(randint(240,380))"
   ]
  }
 ],
 "metadata": {
  "kernelspec": {
   "display_name": "Python 3",
   "language": "python",
   "name": "python3"
  },
  "language_info": {
   "codemirror_mode": {
    "name": "ipython",
    "version": 3
   },
   "file_extension": ".py",
   "mimetype": "text/x-python",
   "name": "python",
   "nbconvert_exporter": "python",
   "pygments_lexer": "ipython3",
   "version": "3.7.3"
  }
 },
 "nbformat": 4,
 "nbformat_minor": 2
}
